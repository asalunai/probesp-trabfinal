{
  "nbformat": 4,
  "nbformat_minor": 0,
  "metadata": {
    "colab": {
      "name": "probest_lista3.ipynb",
      "provenance": [],
      "authorship_tag": "ABX9TyNA4zcKT9jzJaM1h9gW4Viw",
      "include_colab_link": true
    },
    "kernelspec": {
      "name": "python3",
      "display_name": "Python 3"
    }
  },
  "cells": [
    {
      "cell_type": "markdown",
      "metadata": {
        "id": "view-in-github",
        "colab_type": "text"
      },
      "source": [
        "<a href=\"https://colab.research.google.com/github/asalunai/probesp-trabfinal/blob/master/probest_lista3.ipynb\" target=\"_parent\"><img src=\"https://colab.research.google.com/assets/colab-badge.svg\" alt=\"Open In Colab\"/></a>"
      ]
    },
    {
      "cell_type": "markdown",
      "metadata": {
        "id": "U29Yo3d8v-GM"
      },
      "source": [
        "## Questão 1\n",
        "\n",
        "https://hkopp.github.io/2017/12/maximum-likelihood-estimation-of-a-coin-flip#:~:text=The%20question%20is%20what%20the,%CB%86p%3D30%2F100.\n",
        "\n",
        "https://www.sciencemag.org/site/feature/data/phylo/coin/coin.html\n",
        "\n",
        "\n",
        "Podemos usar a distribuição de ***Bernoulli*** para modelar esse experimento:\n",
        "\n",
        "\\begin{equation}\n",
        "f(x|p)=\\begin{cases}\n",
        "    p,   & x=1 \\textrm{, se cara}\\\\\n",
        "    1-p, & x=0 \\textrm{, se coroa}\\\\\n",
        "  \\end{cases}\n",
        "\\end{equation}\n",
        "\n",
        "Onde a $pmf$ é dada por: $f(x|p)=p^x(1-p)^{1-x}$\n",
        "\n",
        "A função de verossimilhança é dada por:\n",
        "\n",
        "$ \\mathcal{L} (p|x_1,...,x_n) = \\prod\\limits_i f(x_i|p)$\n",
        "\n",
        "A $pmf$ conjunta pode ser escrita como (os eventos são independentes):\n",
        "\n",
        "\\begin{equation}\n",
        "f(x_1 \\cap ... \\cap x_n;p) = f(x_1,...,x_n|p)=\n",
        "\\prod\\limits_i f(x_i|p)=p^{\\sum x_i} (1-p)^{n-\\sum x_i}\n",
        "\\end{equation}\n",
        "\n",
        "Assim, para maximizar a função de verossimilhança, deve-se igualar a primeira derivada a zero $ \\frac{\\partial\\mathcal{L}(p)}{\\partial p}= 0$. \n",
        "\n",
        "Entretanto, para faciliar a conta, pode-se maximizar o log da função de verossimilhança: \n",
        "\n",
        "$\\partial\\ln\\mathcal{L}(p) = \n",
        "\\ln (p^{\\sum x_i} (1-p)^{n-\\sum x_i}) = \n",
        "\\ln p \\sum x_i + \\ln (1-p) (n-\\sum x_i)$\n",
        "\n",
        "Então:\n",
        "\n",
        "\\begin{align*}\n",
        "\\frac{\\partial\\ln\\mathcal{L}(p)}{\\partial p}\n",
        "= \\frac{\\sum x_i}{p} - \\frac{n-\\sum x_i}{1-p}\n",
        "= \\frac{(1-p)\\sum x_i -pn +p \\sum x_i}{p(1-p)}\n",
        "= \\frac{\\sum x_i -pn}{p(1-p)} = 0\n",
        "\\end{align*}\n",
        "\n",
        "Logo: \n",
        "\n",
        "\\begin{equation}\n",
        "\\hat p = \\frac{\\sum x_i}{n}\n",
        "\\end{equation}\n",
        "\n"
      ]
    },
    {
      "cell_type": "markdown",
      "metadata": {
        "id": "nYbpOCHK7E3F"
      },
      "source": [
        "## Questão 2\n",
        "\n",
        "https://math.stackexchange.com/questions/1399209/how-to-find-the-maximum-likelihood-estimators-of-parameters-in-the-pareto-distri\n",
        "\n",
        "onde beta = k\n",
        "\n",
        "A distribuição de Pareto é dada por:\n",
        "\n",
        "$f(x;\\alpha,\\beta) = \\alpha {\\beta^{\\alpha}\\over x^{\\alpha+1}}, \n",
        "\\qquad x \\geq \\beta, \\quad \\alpha,\\beta > 0$\n",
        "\n",
        "\n",
        "De maneira que a definição de verssililhança é dada por:\n",
        "\n",
        "$\\mathcal{L}(\\alpha,\\beta;x)=\n",
        "\\prod\\limits^n_{i=1}\\alpha{\\beta^\\alpha\\over x_i^{\\alpha+1}}=\n",
        "\\alpha^n \\beta^{n\\alpha}\\prod\\limits^n_{i=1}{1\\over x_i^{\\alpha+1}}$\n",
        "\n",
        "Para faciliatar o cálculo, podemos calcular o log da função:\n",
        "\n",
        "$\\ln[\\mathcal{L}(\\alpha,\\beta;x)] =\n",
        "n \\ln (\\alpha) + n\\alpha \\ln(\\beta) - (\\alpha+1)\\sum\\limits^n_{i=1}\\ln(x_i)$\n",
        "\n",
        "Derivando e igualando a zero, temos:\n",
        "\n",
        "\\begin{align*}\n",
        "\\frac{\\partial\\ln\\mathcal{L}(\\alpha,\\beta;x)}{\\partial \\alpha} = \n",
        "{n\\over \\alpha}+n \\ln(\\beta)- \\sum\\limits^n_{i=1}\\ln(x_i) = 0\n",
        "\\end{align*}\n",
        "\n",
        "Logo: \n",
        "\n",
        "\\begin{equation}\n",
        "\\hat{\\alpha}= {n \\over \\sum\\limits^n_{i=1}\\ln(x_i)-n\\ln(\\hat{\\beta}) }\n",
        "\\end{equation}\n"
      ]
    },
    {
      "cell_type": "markdown",
      "metadata": {
        "id": "mUDMNIwV_Jjr"
      },
      "source": [
        "## Questão 3\n",
        "\n",
        "https://ocw.mit.edu/courses/mathematics/18-05-introduction-to-probability-and-statistics-spring-2014/exams/\n",
        "\n",
        "https://ocw.mit.edu/courses/mathematics/18-05-introduction-to-probability-and-statistics-spring-2014/exams/MIT18_05S14_Prac_Exam2.pdf\n",
        "\n",
        "https://ocw.mit.edu/courses/mathematics/18-05-introduction-to-probability-and-statistics-spring-2014/exams/MIT18_05S14_Prac_Exa2_Sol.pdf\n",
        "\n",
        "https://ocw.mit.edu/courses/mathematics/18-05-introduction-to-probability-and-statistics-spring-2014/readings/MIT18_05S14_Reading11.pdf\n",
        "\n",
        "### Item 1\n",
        "\n",
        "Pelo Teorema de Bayes: $P(H_n|D) = \\frac{P(D|H_n)P(H_n)}{P(D)}$\n",
        "\n",
        "Onde $P(D)$ é dado pelo teroma da probabilidade total: $P(D) = P(D|H_1)P(H_1) + P(D|H_2)P(H_2) + P(D|H_3)P(H_3) + \\dots +  P(D|H_n)P(H_n)$\n",
        "\n",
        "De maneira que, para a hipótese de ter sido retirado o dado de 8 faces:\n",
        "\n",
        "$P(H_8|D) = \\frac{P(D|H_8)P(H_8)}{P(D)}$\n",
        "\n",
        "Onde $P(D|H_8) = (1/8)^2$ (pois são 2 jogadas independentes), $P(H_8) = 10$ e \n",
        "\n",
        "$P(D) = 0 + (2/36) + (10/64) + (2/144) + (1/400) \\approx 0.2282$\n",
        "\n",
        "Observe que, nesse caso específico, onde o problema diz que a face obtida foi 5 em ambas as tentativas, $P(D|H_4)P(H_4) = 0$, pois o dados de 4 faces não tem o número 5.\n",
        "\n",
        "Substituindo na equação do teorema de Bayes: \n",
        "$P(H_8|D) = \\frac{P(D|H_8)P(H_8)}{P(D)} = \\frac{(1/64)*10}{0.2282} \\approx 0.6847$\n",
        "\n",
        "### Itens 2 e 3\n",
        "\n",
        "Eu preferi agrupar esses dois itens, pois seria mais fácil calcular através de uma tabela de atualização (update table).\n",
        "\n",
        "Sendo $x$ a próxima jogada, então a probablildade da próxima jogada sair um número $x = j$ é dado pela probabilidade total: \n",
        "\n",
        "$p(x=j|D) = \\sum p(x=j|H_n)p(H_n|D) = likelihood × posterior$ para todas as hipóteses.\n",
        "\n",
        "A Tabela de atualização pode então ser calculada:\n",
        "\n",
        "\n",
        "|  Dado \t| Prior \t| Likelihood Original \t| Bayes Numerator \t| Posterior \t| likelihood x=5 \t|   posterior x=5  \t| likelihood x=15 \t|   posterior x=15  \t|\n",
        "|:-----:\t|:-----:\t|:-------------------:\t|:---------------:\t|:---------:\t|:--------------:\t|:----------------:\t|:---------------:\t|:-----------------:\t|\n",
        "|   H   \t|  P(H) \t|       P(D\\|H)       \t|   P(D\\|H)P(H)   \t|  P(H\\|D)  \t|    p(x=5\\|H)   \t| p(x=5\\|H)P(H\\|D) \t|    p(x=15\\|H)   \t| p(x=15\\|H)P(H\\|D) \t|\n",
        "|  H_4  \t|   1   \t|          0          \t|        0        \t|     0     \t|        0       \t|         0        \t|        0        \t|         0         \t|\n",
        "|  H_6  \t|   2   \t|       (1/6)^2       \t|       2/36      \t|   0.2435  \t|       1/6      \t|      0.0406      \t|        0        \t|         0         \t|\n",
        "|  H_8  \t|   10  \t|       (1/8)^2       \t|      10/64      \t|   0.6847  \t|       1/8      \t|      0.0856      \t|        0        \t|         0         \t|\n",
        "|  H_12 \t|   2   \t|       (1/12)^2      \t|      2/144      \t|   0.0609  \t|      1/12      \t|      0.0051      \t|        0        \t|         0         \t|\n",
        "|  H_20 \t|   1   \t|       (1/20)^2      \t|      1/400      \t|   0.0110  \t|      1/20      \t|      0.0006      \t|       1/20      \t|       0.0006      \t|\n",
        "| Total \t|   16  \t|                     \t|      0.2282     \t|     1     \t|                \t|      **0.1318**      \t|                 \t|       **0.0006**      \t|\n",
        "\n",
        "\n",
        "De maneira que:\n",
        "\n",
        "* item (1): $p(x = 5|D) = 0.1318$\n",
        "* item (2): $p(x = 15|D) = 0.0006$\n"
      ]
    },
    {
      "cell_type": "markdown",
      "metadata": {
        "id": "r561WN4fWMVl"
      },
      "source": [
        "https://www.probabilitycourse.com/chapter9/9_1_2_MAP_estimation.php#:~:text=To%20find%20the%20MAP%20estimate%20of%20X%20given%20that%20we,expression%20by%20the%20corresponding%20PMF.&text=Also%2C%20suppose%20that%20Y%7CX,ric(x).\n",
        "\n",
        "## Questão 4\n",
        "\n",
        "### Item 1\n",
        "\n",
        "Dados do problema:\n",
        "\n",
        "* amostra = 10 pessoas\n",
        "* θ = porcentagem das pessoas que preferem comédia\n",
        "\n",
        "De maneira que $x_1$ pode ser modelado como uma Binomial, cuja $pdf$ é: $x_1 = Bin(10,\\theta)$\n",
        "\n",
        "### Item 2\n",
        "\n",
        "Calcule a posterior de θ dado que x1 = 6. Qual a máxima a posteriori (MAP) de θ ?\n",
        "\n",
        "Dado que a $pdf$ de uma função $Beta(a,b)$ tem a forma: $Beta(a,b) = c \\theta^{a−1} (1 − \\theta)^{b−1}$. \n",
        "\n",
        "Então, pelo problema, a prior é dada: $Beta(2,2) = f(\\theta) = c_1 \\theta(1 − \\theta)$\n",
        "\n",
        "Para $x_1 = 6$, temos a likelihood: $p(x_1=6|\\theta) = c_2 \\theta^6 (1 − \\theta)^4$, onde $c_2 = {10 \\choose 6}$\n",
        "\n",
        "De maneira que a posterior (não normalizada) de $x_1 = 6$ é dada:\n",
        "$f(θ)p(x_1=6|\\theta) = c_1 c_2 \\theta^7 (1 − \\theta)^5$, \n",
        "o que nos dá $a=8$ e $b=6$.\n",
        "\n",
        "Lembrando que a constante de normalização é dada por:\n",
        "$c = \\frac{(a+b-1)!}{(a-1)(b-1)}$\n",
        "\n",
        "Então a posterior normalizada será: \n",
        "$f(\\theta|x_1=6) = c_3 \\theta^7 (1 − \\theta)^5$, \n",
        "onde $c_3 = \\frac{13!}{7! 5!}$\n",
        "\n",
        "Para encontrar a MAP, temos que encontrar $\\hat x$ que maximiza a expressão:\n",
        "\n",
        "\\begin{equation}\n",
        "  f_{X|\\theta}(x|\\theta)=\\frac{f_{\\theta|X}(\\theta|x)f_{X}(x)}{f_{\\theta}(\\theta)}\n",
        "\\end{equation}\n",
        "\n",
        "Sendo que, $f_{\\theta}(\\theta)$ não depende de $x$, então podemos simplificar a equação acima para: $f_{X|\\theta}(x|\\theta)= f_{\\theta|X}(\\theta|x)f_{X}(x)$\n",
        "\n",
        "Para $x_1 = 6$, foi calculado acima que: $f(\\theta|x_1=6) = c_3 \\theta^7 (1 − \\theta)^5$\n",
        "\n",
        "Para encontrarmos o valor de $\\theta$ que maximiza essa função, é necessário derivar e igualar a zero:\n",
        "$\\frac{f(\\theta|x_1=6)}{\\partial \\theta} = \n",
        "- c_3 \\theta^6 (12 \\theta - 7) (1 − \\theta)^4 = 0$\n",
        "\n",
        "O que nos dá $c_3 = 0$, e as raízes $t = \\{ 0, \\frac{7}{12}, 1 \\}$\n",
        "\n",
        "Pelo teste da 2ª derivada, obtemos um máximo local em $\\hat t_{MAP} = \\frac{7}{12}$\n",
        "\n",
        "### Item 3\n",
        "\n",
        "Vamos chamar o resultado da segunda votação de $x_2$.\n",
        "O problema pede $p(x_2> 5 | x_1)$. \n",
        "\n",
        "Pela lei da probabilidade total, temos: \n",
        "$p(x_2>5|x_1) = \\int_0^1 p(x_2 > 5 | \\theta) p(\\theta|x_1) d\\theta$\n",
        "\n",
        "Onde: \n",
        "$p(x_2 > 5 | \\theta) = \n",
        "{10 \\choose 6} \\theta^6 (1 − \\theta)^4 + \n",
        "{10 \\choose 7} \\theta^7 (1 − \\theta)^3 + \n",
        "{10 \\choose 8} \\theta^8 (1 − \\theta)^2 + \n",
        "{10 \\choose 9} \\theta^9 (1 − \\theta)^1 + \n",
        "{10 \\choose 10} \\theta^10 (1 − \\theta)^0$\n",
        "\n",
        "E:\n",
        "$f(\\theta|x_1) = \\frac{13!}{7! 5!} \\theta^7 (1 − \\theta)^5$\n"
      ]
    },
    {
      "cell_type": "markdown",
      "metadata": {
        "id": "yVI6h8__0MEK"
      },
      "source": [
        "## Questão 5\n",
        "\n",
        "Dados do problema:\n",
        "\n",
        "* X = V.A. uniforme em [0, θ] que denota o atraso em horas\n",
        "* Para $θ = \\{1/4, 3/4\\}$, $Prior = 1/2$\n",
        "\n",
        "\n",
        "Então temos que, para $\\theta$ fixo, a likelihood é dada:\n",
        "\n",
        "\\begin{equation}\n",
        "f(x|\\theta)=\\begin{cases}\n",
        "    1/\\theta,   & \\textrm{para } x \\leq \\theta\\\\\n",
        "    0, & \\textrm{para } x \\geq \\theta\\\\\n",
        "  \\end{cases}\n",
        "\\end{equation}\n",
        "\n",
        "### Item 1\n",
        "\n",
        "Para 10 minutos, x = 1/6\n",
        "\n",
        "A posterior pode ser calculada como: (Prior x Likelihood) / $\\sum$Likelihood\n",
        "\n",
        "\\begin{equation}\n",
        "f(x|\\theta)=\\begin{cases}\n",
        "    \\theta = 1/4 \\rightarrow & Posterior = \\frac{1/2 * 4}{16/3} = 2 \\\\\n",
        "    \\theta = 3/4 \\rightarrow & Posterior = \\frac{1/2 * 3/4}{16/3} = 2/3 \\\\\n",
        "  \\end{cases}\n",
        "\\end{equation}\n",
        "\n",
        "De maneira que a MAP é $\\hat \\theta = 1/4$.\n",
        "\n",
        "### Item 2\n",
        "\n",
        "Para 30 minutos, x = 1/2\n",
        "\n",
        "\\begin{equation}\n",
        "f(x|\\theta)=\\begin{cases}\n",
        "    \\theta = 1/4 \\rightarrow & Posterior = \\frac{1/2 * 0}{4/3} = 0 \\\\\n",
        "    \\theta = 3/4 \\rightarrow & Posterior = \\frac{1/2 * 3/4}{4/3} = 2/3 \\\\\n",
        "  \\end{cases}\n",
        "\\end{equation}\n",
        "\n",
        "De maneira que a MAP é $\\hat \\theta = 3/4$.\n",
        "\n"
      ]
    },
    {
      "cell_type": "markdown",
      "metadata": {
        "id": "mQvFpf6lZB6w"
      },
      "source": [
        "## Questão 6\n",
        "\n",
        "Dados do problema:\n",
        "\n",
        "* cabo: medida exata = $\\theta$\n",
        "* régua: $N(0,1)$\n",
        "* medição do cabo com régua: $N(\\theta,10^{-4})$\n",
        "\n",
        "### Item 1\n",
        "\n",
        "Temos: \n",
        "\n",
        "$\\mu _{prior} = 9 \\qquad \n",
        "\\sigma^2_{prior} = 1 \\qquad \n",
        "\\sigma^2 = 10^{−4}$\n",
        "\n",
        "O problema diz que só houve uma medição: $n=1$\n",
        "\n",
        "Para atualizar a distribuição normal:\n",
        "\n",
        "$a = \\frac{1}{\\sigma^2_{prior}} = 1 \\qquad\n",
        "b = \\frac{n}{\\sigma^2} = 10000 \\qquad\n",
        "\\mu_{post} = \\frac{a \\mu_{prior} +b \\bar x}{a+b} = \\frac{1}{10001} \\qquad\n",
        "\\sigma^2_{post} = \\frac{1}{a+b} = \\frac{100009}{10001} $\n",
        "\n",
        "Então temos que: $f(\\theta|x = 10) ∼ N(9.99990, 0.0099)$\n",
        "\n",
        "### Item 2\n",
        "\n",
        "Usando a formula: $\\sigma^2_{post} = \\frac{1}{a+b}$ e substituindo as equações referentes a $a$ e $b$, temos:\n",
        "\n",
        "$\\sigma^2_{post} = \\frac{1}{a+b} = \n",
        "\\frac{1}{\\frac{1}{\\sigma^2_{prior}}+\\frac{n}{\\sigma^2}}= \n",
        "\\frac{1}{1+n 10^4}$\n",
        "\n",
        "Para que $\\frac{1}{1+n 10^4} \\leq 10^{-6}$, então $n \\geq 100$.\n"
      ]
    },
    {
      "cell_type": "markdown",
      "metadata": {
        "id": "HY2oQSJ3lq9V"
      },
      "source": [
        "## Questão 7\n",
        "\n",
        "\n",
        "http://chrisstrelioff.ws/sandbox/2014/12/11/inferring_probabilities_with_a_beta_prior_a_third_example_of_bayesian_calculations.html"
      ]
    },
    {
      "cell_type": "code",
      "metadata": {
        "id": "mXSMjpFM3Haf",
        "outputId": "a26db7c9-d0fc-4dd8-816d-e47308c6192e",
        "colab": {
          "base_uri": "https://localhost:8080/",
          "height": 34
        }
      },
      "source": [
        "# gdrive\n",
        "from google.colab import drive\n",
        "drive.mount('/content/drive', force_remount=False)"
      ],
      "execution_count": null,
      "outputs": [
        {
          "output_type": "stream",
          "text": [
            "Drive already mounted at /content/drive; to attempt to forcibly remount, call drive.mount(\"/content/drive\", force_remount=True).\n"
          ],
          "name": "stdout"
        }
      ]
    },
    {
      "cell_type": "code",
      "metadata": {
        "id": "mcNgT3Iq3Gh6"
      },
      "source": [
        "import numpy as np\n",
        "import matplotlib.pyplot as plt\n",
        "from scipy.stats import beta, binom\n",
        "import pandas as pd"
      ],
      "execution_count": null,
      "outputs": []
    },
    {
      "cell_type": "markdown",
      "metadata": {
        "id": "AZ44XZ7xpxbg"
      },
      "source": [
        "### Processamento dos dados:"
      ]
    },
    {
      "cell_type": "code",
      "metadata": {
        "id": "mGWDZXkZBi39",
        "outputId": "07044df7-9582-412b-b17d-8e6ccf2814ef",
        "colab": {
          "base_uri": "https://localhost:8080/",
          "height": 221
        }
      },
      "source": [
        "casos_acum_csv = \"/content/drive/My Drive/COS868 - Probabilidade e Estatística para Aprendizado de Máquina/casos-acumulados-quantid.csv\"\n",
        "casos_novo_csv = \"/content/drive/My Drive/COS868 - Probabilidade e Estatística para Aprendizado de Máquina/casos-novos.csv\"\n",
        "obito_acum_csv = \"/content/drive/My Drive/COS868 - Probabilidade e Estatística para Aprendizado de Máquina/bitos-acumulados-quantid.csv\"\n",
        "obito_novo_csv = \"/content/drive/My Drive/COS868 - Probabilidade e Estatística para Aprendizado de Máquina/bitos-novos.csv\"\n",
        "\n",
        "casos_acum = pd.read_csv(casos_acum_csv, names=[\"data\", \"casos_acum\"], skiprows=[0])\n",
        "casos_novo = pd.read_csv(casos_novo_csv, names=[\"data\", \"casos_novo\"], skiprows=[0])\n",
        "obito_acum = pd.read_csv(obito_acum_csv, names=[\"data\", \"obito_acum\"], skiprows=[0])\n",
        "obito_novo = pd.read_csv(obito_novo_csv, names=[\"data\", \"obito_novo\"], skiprows=[0])\n",
        "\n",
        "print(casos_novo.data)\n",
        "\n",
        "dados_obs = pd.concat([casos_novo[casos_novo.columns[-1]],\n",
        "                casos_acum[casos_acum.columns[-1]],\n",
        "                obito_novo[obito_novo.columns[-1]],\n",
        "                obito_acum[obito_acum.columns[-1]]],\n",
        "                axis = 1)\n"
      ],
      "execution_count": null,
      "outputs": [
        {
          "output_type": "stream",
          "text": [
            "0      2020-03-05 00:00:00\n",
            "1      2020-03-06 00:00:00\n",
            "2      2020-03-08 00:00:00\n",
            "3      2020-03-12 00:00:00\n",
            "4      2020-03-15 00:00:00\n",
            "              ...         \n",
            "164    2020-08-25 00:00:00\n",
            "165    2020-08-26 00:00:00\n",
            "166    2020-08-27 00:00:00\n",
            "167    2020-08-29 00:00:00\n",
            "168    2020-08-30 00:00:00\n",
            "Name: data, Length: 169, dtype: object\n"
          ],
          "name": "stdout"
        }
      ]
    },
    {
      "cell_type": "code",
      "metadata": {
        "id": "s1rYIOTOBNyh",
        "outputId": "14a3bfff-2a93-4ab0-dc0f-e54488a1954b",
        "colab": {
          "base_uri": "https://localhost:8080/",
          "height": 818
        }
      },
      "source": [
        "dados_obs['novo_pct'] = dados_obs['obito_novo']/dados_obs['casos_novo']\n",
        "dados_obs['acum_pct'] = dados_obs['obito_acum']/dados_obs['casos_acum']\n",
        "\n",
        "display(dados_obs.describe())\n",
        "display(dados_obs.sort_values(by=['novo_pct']))\n",
        "display(dados_obs.iloc[141])\n",
        "dados_obs.drop( dados_obs.index[141], inplace=True) #tlavez retirar linha 121?\n",
        "\n",
        "dados_obs[dados_obs['novo_pct'] == 0.] = 0.00000001\n",
        "dados_obs[dados_obs['novo_pct'] == 1.] = 0.99999999\n",
        "\n",
        "dados_obs[dados_obs['acum_pct'] == 0.] = 0.00000001\n",
        "dados_obs[dados_obs['acum_pct'] == 1.] = 0.99999999"
      ],
      "execution_count": null,
      "outputs": [
        {
          "output_type": "display_data",
          "data": {
            "text/html": [
              "<div>\n",
              "<style scoped>\n",
              "    .dataframe tbody tr th:only-of-type {\n",
              "        vertical-align: middle;\n",
              "    }\n",
              "\n",
              "    .dataframe tbody tr th {\n",
              "        vertical-align: top;\n",
              "    }\n",
              "\n",
              "    .dataframe thead th {\n",
              "        text-align: right;\n",
              "    }\n",
              "</style>\n",
              "<table border=\"1\" class=\"dataframe\">\n",
              "  <thead>\n",
              "    <tr style=\"text-align: right;\">\n",
              "      <th></th>\n",
              "      <th>casos_novo</th>\n",
              "      <th>casos_acum</th>\n",
              "      <th>obito_novo</th>\n",
              "      <th>obito_acum</th>\n",
              "      <th>novo_pct</th>\n",
              "      <th>acum_pct</th>\n",
              "    </tr>\n",
              "  </thead>\n",
              "  <tbody>\n",
              "    <tr>\n",
              "      <th>count</th>\n",
              "      <td>169.000000</td>\n",
              "      <td>169.000000</td>\n",
              "      <td>169.000000</td>\n",
              "      <td>169.000000</td>\n",
              "      <td>169.000000</td>\n",
              "      <td>169.000000</td>\n",
              "    </tr>\n",
              "    <tr>\n",
              "      <th>mean</th>\n",
              "      <td>1321.313609</td>\n",
              "      <td>78335.207101</td>\n",
              "      <td>94.834320</td>\n",
              "      <td>6591.804734</td>\n",
              "      <td>0.122783</td>\n",
              "      <td>0.078248</td>\n",
              "    </tr>\n",
              "    <tr>\n",
              "      <th>std</th>\n",
              "      <td>1245.118206</td>\n",
              "      <td>72700.732667</td>\n",
              "      <td>78.681825</td>\n",
              "      <td>5650.693049</td>\n",
              "      <td>0.183089</td>\n",
              "      <td>0.027352</td>\n",
              "    </tr>\n",
              "    <tr>\n",
              "      <th>min</th>\n",
              "      <td>1.000000</td>\n",
              "      <td>1.000000</td>\n",
              "      <td>0.000000</td>\n",
              "      <td>0.000000</td>\n",
              "      <td>0.000000</td>\n",
              "      <td>0.000000</td>\n",
              "    </tr>\n",
              "    <tr>\n",
              "      <th>25%</th>\n",
              "      <td>248.000000</td>\n",
              "      <td>6282.000000</td>\n",
              "      <td>28.000000</td>\n",
              "      <td>570.000000</td>\n",
              "      <td>0.040306</td>\n",
              "      <td>0.073205</td>\n",
              "    </tr>\n",
              "    <tr>\n",
              "      <th>50%</th>\n",
              "      <td>864.000000</td>\n",
              "      <td>63066.000000</td>\n",
              "      <td>79.000000</td>\n",
              "      <td>6473.000000</td>\n",
              "      <td>0.069215</td>\n",
              "      <td>0.086837</td>\n",
              "    </tr>\n",
              "    <tr>\n",
              "      <th>75%</th>\n",
              "      <td>2202.000000</td>\n",
              "      <td>135230.000000</td>\n",
              "      <td>155.000000</td>\n",
              "      <td>11919.000000</td>\n",
              "      <td>0.108929</td>\n",
              "      <td>0.093580</td>\n",
              "    </tr>\n",
              "    <tr>\n",
              "      <th>max</th>\n",
              "      <td>6061.000000</td>\n",
              "      <td>223302.000000</td>\n",
              "      <td>324.000000</td>\n",
              "      <td>16027.000000</td>\n",
              "      <td>1.333333</td>\n",
              "      <td>0.122088</td>\n",
              "    </tr>\n",
              "  </tbody>\n",
              "</table>\n",
              "</div>"
            ],
            "text/plain": [
              "        casos_novo     casos_acum  ...    novo_pct    acum_pct\n",
              "count   169.000000     169.000000  ...  169.000000  169.000000\n",
              "mean   1321.313609   78335.207101  ...    0.122783    0.078248\n",
              "std    1245.118206   72700.732667  ...    0.183089    0.027352\n",
              "min       1.000000       1.000000  ...    0.000000    0.000000\n",
              "25%     248.000000    6282.000000  ...    0.040306    0.073205\n",
              "50%     864.000000   63066.000000  ...    0.069215    0.086837\n",
              "75%    2202.000000  135230.000000  ...    0.108929    0.093580\n",
              "max    6061.000000  223302.000000  ...    1.333333    0.122088\n",
              "\n",
              "[8 rows x 6 columns]"
            ]
          },
          "metadata": {
            "tags": []
          }
        },
        {
          "output_type": "display_data",
          "data": {
            "text/html": [
              "<div>\n",
              "<style scoped>\n",
              "    .dataframe tbody tr th:only-of-type {\n",
              "        vertical-align: middle;\n",
              "    }\n",
              "\n",
              "    .dataframe tbody tr th {\n",
              "        vertical-align: top;\n",
              "    }\n",
              "\n",
              "    .dataframe thead th {\n",
              "        text-align: right;\n",
              "    }\n",
              "</style>\n",
              "<table border=\"1\" class=\"dataframe\">\n",
              "  <thead>\n",
              "    <tr style=\"text-align: right;\">\n",
              "      <th></th>\n",
              "      <th>casos_novo</th>\n",
              "      <th>casos_acum</th>\n",
              "      <th>obito_novo</th>\n",
              "      <th>obito_acum</th>\n",
              "      <th>novo_pct</th>\n",
              "      <th>acum_pct</th>\n",
              "    </tr>\n",
              "  </thead>\n",
              "  <tbody>\n",
              "    <tr>\n",
              "      <th>0</th>\n",
              "      <td>1</td>\n",
              "      <td>1</td>\n",
              "      <td>0</td>\n",
              "      <td>0</td>\n",
              "      <td>0.000000</td>\n",
              "      <td>0.000000</td>\n",
              "    </tr>\n",
              "    <tr>\n",
              "      <th>1</th>\n",
              "      <td>1</td>\n",
              "      <td>2</td>\n",
              "      <td>0</td>\n",
              "      <td>0</td>\n",
              "      <td>0.000000</td>\n",
              "      <td>0.000000</td>\n",
              "    </tr>\n",
              "    <tr>\n",
              "      <th>2</th>\n",
              "      <td>1</td>\n",
              "      <td>3</td>\n",
              "      <td>0</td>\n",
              "      <td>0</td>\n",
              "      <td>0.000000</td>\n",
              "      <td>0.000000</td>\n",
              "    </tr>\n",
              "    <tr>\n",
              "      <th>3</th>\n",
              "      <td>12</td>\n",
              "      <td>15</td>\n",
              "      <td>0</td>\n",
              "      <td>0</td>\n",
              "      <td>0.000000</td>\n",
              "      <td>0.000000</td>\n",
              "    </tr>\n",
              "    <tr>\n",
              "      <th>4</th>\n",
              "      <td>9</td>\n",
              "      <td>24</td>\n",
              "      <td>0</td>\n",
              "      <td>0</td>\n",
              "      <td>0.000000</td>\n",
              "      <td>0.000000</td>\n",
              "    </tr>\n",
              "    <tr>\n",
              "      <th>...</th>\n",
              "      <td>...</td>\n",
              "      <td>...</td>\n",
              "      <td>...</td>\n",
              "      <td>...</td>\n",
              "      <td>...</td>\n",
              "      <td>...</td>\n",
              "    </tr>\n",
              "    <tr>\n",
              "      <th>125</th>\n",
              "      <td>124</td>\n",
              "      <td>134573</td>\n",
              "      <td>92</td>\n",
              "      <td>11849</td>\n",
              "      <td>0.741935</td>\n",
              "      <td>0.088049</td>\n",
              "    </tr>\n",
              "    <tr>\n",
              "      <th>97</th>\n",
              "      <td>354</td>\n",
              "      <td>87317</td>\n",
              "      <td>274</td>\n",
              "      <td>8412</td>\n",
              "      <td>0.774011</td>\n",
              "      <td>0.096339</td>\n",
              "    </tr>\n",
              "    <tr>\n",
              "      <th>134</th>\n",
              "      <td>32</td>\n",
              "      <td>156325</td>\n",
              "      <td>27</td>\n",
              "      <td>12835</td>\n",
              "      <td>0.843750</td>\n",
              "      <td>0.082105</td>\n",
              "    </tr>\n",
              "    <tr>\n",
              "      <th>121</th>\n",
              "      <td>9</td>\n",
              "      <td>129684</td>\n",
              "      <td>9</td>\n",
              "      <td>11415</td>\n",
              "      <td>1.000000</td>\n",
              "      <td>0.088022</td>\n",
              "    </tr>\n",
              "    <tr>\n",
              "      <th>141</th>\n",
              "      <td>12</td>\n",
              "      <td>167225</td>\n",
              "      <td>16</td>\n",
              "      <td>13572</td>\n",
              "      <td>1.333333</td>\n",
              "      <td>0.081160</td>\n",
              "    </tr>\n",
              "  </tbody>\n",
              "</table>\n",
              "<p>169 rows × 6 columns</p>\n",
              "</div>"
            ],
            "text/plain": [
              "     casos_novo  casos_acum  obito_novo  obito_acum  novo_pct  acum_pct\n",
              "0             1           1           0           0  0.000000  0.000000\n",
              "1             1           2           0           0  0.000000  0.000000\n",
              "2             1           3           0           0  0.000000  0.000000\n",
              "3            12          15           0           0  0.000000  0.000000\n",
              "4             9          24           0           0  0.000000  0.000000\n",
              "..          ...         ...         ...         ...       ...       ...\n",
              "125         124      134573          92       11849  0.741935  0.088049\n",
              "97          354       87317         274        8412  0.774011  0.096339\n",
              "134          32      156325          27       12835  0.843750  0.082105\n",
              "121           9      129684           9       11415  1.000000  0.088022\n",
              "141          12      167225          16       13572  1.333333  0.081160\n",
              "\n",
              "[169 rows x 6 columns]"
            ]
          },
          "metadata": {
            "tags": []
          }
        },
        {
          "output_type": "display_data",
          "data": {
            "text/plain": [
              "casos_novo        12.000000\n",
              "casos_acum    167225.000000\n",
              "obito_novo        16.000000\n",
              "obito_acum     13572.000000\n",
              "novo_pct           1.333333\n",
              "acum_pct           0.081160\n",
              "Name: 141, dtype: float64"
            ]
          },
          "metadata": {
            "tags": []
          }
        }
      ]
    },
    {
      "cell_type": "markdown",
      "metadata": {
        "id": "_GrbKPjesn4s"
      },
      "source": [
        "### MLE"
      ]
    },
    {
      "cell_type": "code",
      "metadata": {
        "id": "z52tBI0VsqI5",
        "outputId": "e62224b1-3dfa-4d8a-8aed-c89f74b38169",
        "colab": {
          "base_uri": "https://localhost:8080/",
          "height": 170
        }
      },
      "source": [
        "# período: 05/03/2020 a 30/06/2020\n",
        "\n",
        "print(casos_novo.data.iloc[105:110])\n",
        "\n",
        "dados_mle = dados_obs.iloc[:110]\n",
        "dados_prd = dados_obs.iloc[110:]\n",
        "\n",
        "a1, b1, loc1, scale1 = beta.fit(dados_mle['novo_pct'], floc=0, fscale=1)\n",
        "a2, b2, loc2, scale2 = beta.fit(dados_mle['acum_pct'], floc=0, fscale=1)\n",
        "\n",
        "print(\"MLE Beta\")\n",
        "print('novo:', a1, b1)\n",
        "print('acum:', a2, b2)"
      ],
      "execution_count": null,
      "outputs": [
        {
          "output_type": "stream",
          "text": [
            "105    2020-06-26 00:00:00\n",
            "106    2020-06-27 00:00:00\n",
            "107    2020-06-28 00:00:00\n",
            "108    2020-06-29 00:00:00\n",
            "109    2020-06-30 00:00:00\n",
            "Name: data, dtype: object\n",
            "MLE Beta\n",
            "novo: 0.4101664081498313 3.114340384036476\n",
            "acum: 0.5362449617209109 6.893515388143745\n"
          ],
          "name": "stdout"
        }
      ]
    },
    {
      "cell_type": "markdown",
      "metadata": {
        "id": "jF2EKAYWP-2c"
      },
      "source": [
        "### Iteração\n",
        "\n",
        "https://alexanderetz.com/2015/07/25/understanding-bayes-updating-priors-via-the-likelihood/\n",
        "\n",
        "http://chrisstrelioff.ws/sandbox/2014/12/11/inferring_probabilities_with_a_beta_prior_a_third_example_of_bayesian_calculations.html\n",
        "\n",
        "$Prior = Beta(\\alpha, \\beta) = p^{\\alpha-1} (1-p)^{\\beta-1}$\n",
        "\n",
        "$Likelihood = Binomial(n,x) = p^x (1-p)^{n-x}$\n",
        "\n",
        "$Posterior \\propto Likelihood \\ X \\ Prior$\n",
        "\n",
        "$Posterior = p^x (1-p)^{n-x} p^{\\alpha-1} (1-p)^{\\beta-1}$\n",
        "\n",
        "Simplificando:\n",
        "\n",
        "$Posterior = p^{\\alpha-1+x} (1-p)^{\\beta-1+n-x} = Beta(\\alpha+x, \\beta+n-x)$"
      ]
    },
    {
      "cell_type": "code",
      "metadata": {
        "id": "4w9C51-UQAih",
        "outputId": "3e0746f4-85b4-473e-c7e3-919325735fe8",
        "colab": {
          "base_uri": "https://localhost:8080/",
          "height": 51
        }
      },
      "source": [
        "def atual_post(a,b,n,x):\n",
        "  a_atual = a+x\n",
        "  b_atual = b+n-x\n",
        "  return a_atual, b_atual\n",
        "\n",
        "for index, row in dados_prd.iterrows():\n",
        "  if index == 110:\n",
        "    at_novo, bt_novo = atual_post(a1,b1,row[0],row[2])\n",
        "  else:\n",
        "    at_novo, bt_novo = atual_post(at_novo,bt_novo,row[0],row[2])\n",
        "\n",
        "print(\"novo:\", at_novo, bt_novo)\n",
        "\n",
        "for index, row in dados_prd.iterrows():\n",
        "  if index == 110:\n",
        "    at_acum, bt_acum = atual_post(a2,b2,row[1],row[3])\n",
        "  else:\n",
        "    at_acum, bt_acum = atual_post(at_acum,bt_acum,row[0],row[2])\n",
        "\n",
        "print(\"acumulado:\", at_acum, bt_acum)\n"
      ],
      "execution_count": null,
      "outputs": [
        {
          "output_type": "stream",
          "text": [
            "novo: 5923.41016639815 104751.11434038404\n",
            "acumulado: 16003.53624495172 207285.89351538813\n"
          ],
          "name": "stdout"
        }
      ]
    },
    {
      "cell_type": "code",
      "metadata": {
        "id": "9ime3qF8y3NN",
        "outputId": "cd468df0-3eeb-4746-9659-64bd8570c742",
        "colab": {
          "base_uri": "https://localhost:8080/",
          "height": 547
        }
      },
      "source": [
        "def plot(aa,bb):\n",
        "\n",
        "  fig, ax = plt.subplots(1, 1)\n",
        "  x = np.arange(0., 1., 0.01)\n",
        "\n",
        "  p0rv = beta(aa,bb)\n",
        "\n",
        "  def plt_pdf(p0):\n",
        "    return p0rv.pdf(p0)\n",
        "\n",
        "  # plot pdf\n",
        "  ax.plot(x, plt_pdf(x), 'r-')\n",
        "\n",
        "  ax.set_xlabel('Probabilidade de Sucesso')\n",
        "  ax.set_ylabel('Posterior PDF')\n",
        "  ax.set_ylim(0., 1.1*np.max(plt_pdf(x)))\n",
        "\n",
        "  plt.show()\n",
        "\n",
        "plot_novo = plot(at_novo,bt_novo)\n",
        "\n",
        "plot_acum = plot(at_acum,bt_acum)"
      ],
      "execution_count": null,
      "outputs": [
        {
          "output_type": "display_data",
          "data": {
            "image/png": "[encoded data removed]",
            "text/plain": [
              "<Figure size 432x288 with 1 Axes>"
            ]
          },
          "metadata": {
            "tags": [],
            "needs_background": "light"
          }
        },
        {
          "output_type": "display_data",
          "data": {
            "image/png": "[encoded data removed]",
            "text/plain": [
              "<Figure size 432x288 with 1 Axes>"
            ]
          },
          "metadata": {
            "tags": [],
            "needs_background": "light"
          }
        }
      ]
    }
  ]
}